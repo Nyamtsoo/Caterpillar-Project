{
 "cells": [
  {
   "cell_type": "markdown",
   "id": "6aa8982d",
   "metadata": {},
   "source": [
    "# Caterpillar data - Basic descriptive statistics"
   ]
  },
  {
   "cell_type": "code",
   "execution_count": 1,
   "id": "6a47ca5f",
   "metadata": {},
   "outputs": [],
   "source": [
    "# Import libraries\n",
    "import pandas as pd\n",
    "import numpy as np\n",
    "import os\n",
    "import matplotlib.pyplot as plt\n",
    "import seaborn as sns\n",
    "import scipy"
   ]
  },
  {
   "cell_type": "code",
   "execution_count": 2,
   "id": "313ca86e",
   "metadata": {},
   "outputs": [],
   "source": [
    "# creating data path\n",
    "path = r'C:\\Users\\jnyam\\Documents\\Caterpillar'\n",
    "# Importing data\n",
    "df = pd.read_csv(os.path.join(path, 'Data', 'Caterpillar.csv'))"
   ]
  },
  {
   "cell_type": "code",
   "execution_count": 3,
   "id": "fc0a8a8f",
   "metadata": {},
   "outputs": [
    {
     "data": {
      "text/html": [
       "<div>\n",
       "<style scoped>\n",
       "    .dataframe tbody tr th:only-of-type {\n",
       "        vertical-align: middle;\n",
       "    }\n",
       "\n",
       "    .dataframe tbody tr th {\n",
       "        vertical-align: top;\n",
       "    }\n",
       "\n",
       "    .dataframe thead th {\n",
       "        text-align: right;\n",
       "    }\n",
       "</style>\n",
       "<table border=\"1\" class=\"dataframe\">\n",
       "  <thead>\n",
       "    <tr style=\"text-align: right;\">\n",
       "      <th></th>\n",
       "      <th>Invoice</th>\n",
       "      <th>TransactionDate</th>\n",
       "      <th>DeliveryDate</th>\n",
       "      <th>EmpKey</th>\n",
       "      <th>ChannelKey</th>\n",
       "      <th>StoreID</th>\n",
       "      <th>ProductKey</th>\n",
       "      <th>CustomerKey</th>\n",
       "      <th>Qty</th>\n",
       "      <th>Cost</th>\n",
       "      <th>Price</th>\n",
       "      <th>ProductDescription</th>\n",
       "      <th>Brand</th>\n",
       "      <th>Type</th>\n",
       "      <th>Color</th>\n",
       "      <th>CityName</th>\n",
       "      <th>CountryName</th>\n",
       "      <th>Channel</th>\n",
       "      <th>CustomerName</th>\n",
       "      <th>Industry</th>\n",
       "    </tr>\n",
       "  </thead>\n",
       "  <tbody>\n",
       "    <tr>\n",
       "      <th>0</th>\n",
       "      <td>E1072592</td>\n",
       "      <td>Tue Jan 01, 2002</td>\n",
       "      <td>Tue Jan 22, 2002</td>\n",
       "      <td>E04</td>\n",
       "      <td>9</td>\n",
       "      <td>IN288</td>\n",
       "      <td>FL-125</td>\n",
       "      <td>72</td>\n",
       "      <td>1</td>\n",
       "      <td>1472</td>\n",
       "      <td>1958</td>\n",
       "      <td>ForkLifts-Bradshaw-HeavyDuty-YellowBlack</td>\n",
       "      <td>Bradshaw</td>\n",
       "      <td>HeavyDuty</td>\n",
       "      <td>YellowBlack</td>\n",
       "      <td>Mumbai</td>\n",
       "      <td>India</td>\n",
       "      <td>Brochure</td>\n",
       "      <td>Skanska</td>\n",
       "      <td>Construction</td>\n",
       "    </tr>\n",
       "    <tr>\n",
       "      <th>1</th>\n",
       "      <td>E1072593</td>\n",
       "      <td>Tue Jan 01, 2002</td>\n",
       "      <td>Wed Jan 16, 2002</td>\n",
       "      <td>E12</td>\n",
       "      <td>9</td>\n",
       "      <td>BZ118</td>\n",
       "      <td>RP-243</td>\n",
       "      <td>47</td>\n",
       "      <td>1</td>\n",
       "      <td>6618</td>\n",
       "      <td>9265</td>\n",
       "      <td>RoadPavers-Raygo-LightDuty-WhiteYellow</td>\n",
       "      <td>Raygo</td>\n",
       "      <td>LightDuty</td>\n",
       "      <td>WhiteYellow</td>\n",
       "      <td>SaoPaulo</td>\n",
       "      <td>Brazil</td>\n",
       "      <td>Brochure</td>\n",
       "      <td>LGCorp</td>\n",
       "      <td>Conglomerate</td>\n",
       "    </tr>\n",
       "    <tr>\n",
       "      <th>2</th>\n",
       "      <td>E1072594</td>\n",
       "      <td>Tue Jan 01, 2002</td>\n",
       "      <td>Mon Jan 21, 2002</td>\n",
       "      <td>E02</td>\n",
       "      <td>3</td>\n",
       "      <td>NM120</td>\n",
       "      <td>RD-516</td>\n",
       "      <td>48</td>\n",
       "      <td>2</td>\n",
       "      <td>10672</td>\n",
       "      <td>12593</td>\n",
       "      <td>RockDrillers-Tranter-LightDuty-White</td>\n",
       "      <td>Tranter</td>\n",
       "      <td>LightDuty</td>\n",
       "      <td>White</td>\n",
       "      <td>Windhoek</td>\n",
       "      <td>Namibia</td>\n",
       "      <td>Magazine</td>\n",
       "      <td>Lukoil</td>\n",
       "      <td>Oil&amp;Gas</td>\n",
       "    </tr>\n",
       "    <tr>\n",
       "      <th>3</th>\n",
       "      <td>E1072595</td>\n",
       "      <td>Tue Jan 01, 2002</td>\n",
       "      <td>Thu Jan 31, 2002</td>\n",
       "      <td>E07</td>\n",
       "      <td>4</td>\n",
       "      <td>US213</td>\n",
       "      <td>BZ-801</td>\n",
       "      <td>73</td>\n",
       "      <td>1</td>\n",
       "      <td>3013</td>\n",
       "      <td>4007</td>\n",
       "      <td>Bulldozers-JCB-HeavyDuty-Yellow</td>\n",
       "      <td>JCB</td>\n",
       "      <td>HeavyDuty</td>\n",
       "      <td>Yellow</td>\n",
       "      <td>Nashville</td>\n",
       "      <td>US</td>\n",
       "      <td>CustomerReview</td>\n",
       "      <td>State Grid of China</td>\n",
       "      <td>Electricity</td>\n",
       "    </tr>\n",
       "    <tr>\n",
       "      <th>4</th>\n",
       "      <td>E1072596</td>\n",
       "      <td>Tue Jan 01, 2002</td>\n",
       "      <td>Mon Jan 21, 2002</td>\n",
       "      <td>E03</td>\n",
       "      <td>3</td>\n",
       "      <td>US219</td>\n",
       "      <td>BZ-812</td>\n",
       "      <td>16</td>\n",
       "      <td>1</td>\n",
       "      <td>7396</td>\n",
       "      <td>9171</td>\n",
       "      <td>Bulldozers-Case-HeavyDuty-White</td>\n",
       "      <td>Case</td>\n",
       "      <td>HeavyDuty</td>\n",
       "      <td>White</td>\n",
       "      <td>Detroit</td>\n",
       "      <td>US</td>\n",
       "      <td>Magazine</td>\n",
       "      <td>Cargill</td>\n",
       "      <td>FoodProcessing</td>\n",
       "    </tr>\n",
       "  </tbody>\n",
       "</table>\n",
       "</div>"
      ],
      "text/plain": [
       "    Invoice   TransactionDate      DeliveryDate EmpKey  ChannelKey StoreID  \\\n",
       "0  E1072592  Tue Jan 01, 2002  Tue Jan 22, 2002    E04           9   IN288   \n",
       "1  E1072593  Tue Jan 01, 2002  Wed Jan 16, 2002    E12           9   BZ118   \n",
       "2  E1072594  Tue Jan 01, 2002  Mon Jan 21, 2002    E02           3   NM120   \n",
       "3  E1072595  Tue Jan 01, 2002  Thu Jan 31, 2002    E07           4   US213   \n",
       "4  E1072596  Tue Jan 01, 2002  Mon Jan 21, 2002    E03           3   US219   \n",
       "\n",
       "  ProductKey  CustomerKey  Qty   Cost  Price  \\\n",
       "0     FL-125           72    1   1472   1958   \n",
       "1     RP-243           47    1   6618   9265   \n",
       "2     RD-516           48    2  10672  12593   \n",
       "3     BZ-801           73    1   3013   4007   \n",
       "4     BZ-812           16    1   7396   9171   \n",
       "\n",
       "                         ProductDescription     Brand       Type        Color  \\\n",
       "0  ForkLifts-Bradshaw-HeavyDuty-YellowBlack  Bradshaw  HeavyDuty  YellowBlack   \n",
       "1    RoadPavers-Raygo-LightDuty-WhiteYellow     Raygo  LightDuty  WhiteYellow   \n",
       "2      RockDrillers-Tranter-LightDuty-White   Tranter  LightDuty        White   \n",
       "3           Bulldozers-JCB-HeavyDuty-Yellow       JCB  HeavyDuty       Yellow   \n",
       "4           Bulldozers-Case-HeavyDuty-White      Case  HeavyDuty        White   \n",
       "\n",
       "    CityName CountryName         Channel         CustomerName        Industry  \n",
       "0     Mumbai       India        Brochure              Skanska    Construction  \n",
       "1   SaoPaulo      Brazil        Brochure               LGCorp    Conglomerate  \n",
       "2   Windhoek     Namibia        Magazine               Lukoil         Oil&Gas  \n",
       "3  Nashville          US  CustomerReview  State Grid of China     Electricity  \n",
       "4    Detroit          US        Magazine              Cargill  FoodProcessing  "
      ]
     },
     "execution_count": 3,
     "metadata": {},
     "output_type": "execute_result"
    }
   ],
   "source": [
    "# Checking data imported\n",
    "df.head(5)"
   ]
  },
  {
   "cell_type": "code",
   "execution_count": 4,
   "id": "e84457c5",
   "metadata": {
    "scrolled": false
   },
   "outputs": [
    {
     "data": {
      "text/plain": [
       "Invoice               object\n",
       "TransactionDate       object\n",
       "DeliveryDate          object\n",
       "EmpKey                object\n",
       "ChannelKey             int64\n",
       "StoreID               object\n",
       "ProductKey            object\n",
       "CustomerKey            int64\n",
       "Qty                    int64\n",
       "Cost                   int64\n",
       "Price                  int64\n",
       "ProductDescription    object\n",
       "Brand                 object\n",
       "Type                  object\n",
       "Color                 object\n",
       "CityName              object\n",
       "CountryName           object\n",
       "Channel               object\n",
       "CustomerName          object\n",
       "Industry              object\n",
       "dtype: object"
      ]
     },
     "execution_count": 4,
     "metadata": {},
     "output_type": "execute_result"
    }
   ],
   "source": [
    "# Checking data types\n",
    "df.dtypes"
   ]
  },
  {
   "cell_type": "markdown",
   "id": "ac6de29f",
   "metadata": {},
   "source": [
    "### Changing data types"
   ]
  },
  {
   "cell_type": "code",
   "execution_count": 5,
   "id": "9e3bebc1",
   "metadata": {},
   "outputs": [
    {
     "name": "stdout",
     "output_type": "stream",
     "text": [
      "Invoice                       object\n",
      "TransactionDate       datetime64[ns]\n",
      "DeliveryDate          datetime64[ns]\n",
      "EmpKey                        object\n",
      "ChannelKey                     int64\n",
      "StoreID                       object\n",
      "ProductKey                    object\n",
      "CustomerKey                    int64\n",
      "Qty                            int64\n",
      "Cost                           int64\n",
      "Price                          int64\n",
      "ProductDescription            object\n",
      "Brand                         object\n",
      "Type                          object\n",
      "Color                         object\n",
      "CityName                      object\n",
      "CountryName                   object\n",
      "Channel                       object\n",
      "CustomerName                  object\n",
      "Industry                      object\n",
      "dtype: object\n"
     ]
    }
   ],
   "source": [
    "# Convert TransactionDate to datetime\n",
    "df['TransactionDate'] = pd.to_datetime(df['TransactionDate'])\n",
    "\n",
    "\n",
    "# Convert TransactionDate to datetime\n",
    "df['DeliveryDate'] = pd.to_datetime(df['DeliveryDate'])\n",
    "\n",
    "# Not sure for Channelkey and Customerkey if they should be int64 type. Will check on the next progress. \n",
    "\n",
    "\n",
    "# Verify changes\n",
    "print(df.dtypes)"
   ]
  },
  {
   "cell_type": "code",
   "execution_count": 6,
   "id": "2f01810f",
   "metadata": {},
   "outputs": [
    {
     "data": {
      "text/plain": [
       "(806485, 20)"
      ]
     },
     "execution_count": 6,
     "metadata": {},
     "output_type": "execute_result"
    }
   ],
   "source": [
    "# Checking data imported\n",
    "df.shape"
   ]
  },
  {
   "cell_type": "markdown",
   "id": "a9957185",
   "metadata": {},
   "source": [
    "## DATA CONSISTENCY CHECK"
   ]
  },
  {
   "cell_type": "code",
   "execution_count": 7,
   "id": "ec6149be",
   "metadata": {},
   "outputs": [],
   "source": [
    "# Checking mixed data types\n",
    "for col in df.columns.tolist():\n",
    "  weird = (df[[col]].applymap(type) != df[[col]].iloc[0].apply(type)).any(axis = 1)\n",
    "  if len (df[weird]) > 0:\n",
    "    print (col)"
   ]
  },
  {
   "cell_type": "markdown",
   "id": "5822fab5",
   "metadata": {},
   "source": [
    "### Checking missing values"
   ]
  },
  {
   "cell_type": "code",
   "execution_count": 8,
   "id": "900de819",
   "metadata": {
    "scrolled": true
   },
   "outputs": [
    {
     "data": {
      "text/plain": [
       "Invoice               0\n",
       "TransactionDate       0\n",
       "DeliveryDate          0\n",
       "EmpKey                0\n",
       "ChannelKey            0\n",
       "StoreID               0\n",
       "ProductKey            0\n",
       "CustomerKey           0\n",
       "Qty                   0\n",
       "Cost                  0\n",
       "Price                 0\n",
       "ProductDescription    0\n",
       "Brand                 0\n",
       "Type                  0\n",
       "Color                 0\n",
       "CityName              0\n",
       "CountryName           0\n",
       "Channel               0\n",
       "CustomerName          0\n",
       "Industry              0\n",
       "dtype: int64"
      ]
     },
     "execution_count": 8,
     "metadata": {},
     "output_type": "execute_result"
    }
   ],
   "source": [
    "# checking missing values\n",
    "df.isnull().sum()"
   ]
  },
  {
   "cell_type": "markdown",
   "id": "516cca60",
   "metadata": {},
   "source": [
    "There is no missing values for all variables"
   ]
  },
  {
   "cell_type": "markdown",
   "id": "1464441e",
   "metadata": {},
   "source": [
    "### Checking duplicates"
   ]
  },
  {
   "cell_type": "code",
   "execution_count": 9,
   "id": "c07fddbc",
   "metadata": {},
   "outputs": [],
   "source": [
    "df_dups = df[df.duplicated()]"
   ]
  },
  {
   "cell_type": "code",
   "execution_count": 10,
   "id": "142205df",
   "metadata": {
    "scrolled": true
   },
   "outputs": [
    {
     "data": {
      "text/html": [
       "<div>\n",
       "<style scoped>\n",
       "    .dataframe tbody tr th:only-of-type {\n",
       "        vertical-align: middle;\n",
       "    }\n",
       "\n",
       "    .dataframe tbody tr th {\n",
       "        vertical-align: top;\n",
       "    }\n",
       "\n",
       "    .dataframe thead th {\n",
       "        text-align: right;\n",
       "    }\n",
       "</style>\n",
       "<table border=\"1\" class=\"dataframe\">\n",
       "  <thead>\n",
       "    <tr style=\"text-align: right;\">\n",
       "      <th></th>\n",
       "      <th>Invoice</th>\n",
       "      <th>TransactionDate</th>\n",
       "      <th>DeliveryDate</th>\n",
       "      <th>EmpKey</th>\n",
       "      <th>ChannelKey</th>\n",
       "      <th>StoreID</th>\n",
       "      <th>ProductKey</th>\n",
       "      <th>CustomerKey</th>\n",
       "      <th>Qty</th>\n",
       "      <th>Cost</th>\n",
       "      <th>Price</th>\n",
       "      <th>ProductDescription</th>\n",
       "      <th>Brand</th>\n",
       "      <th>Type</th>\n",
       "      <th>Color</th>\n",
       "      <th>CityName</th>\n",
       "      <th>CountryName</th>\n",
       "      <th>Channel</th>\n",
       "      <th>CustomerName</th>\n",
       "      <th>Industry</th>\n",
       "    </tr>\n",
       "  </thead>\n",
       "  <tbody>\n",
       "  </tbody>\n",
       "</table>\n",
       "</div>"
      ],
      "text/plain": [
       "Empty DataFrame\n",
       "Columns: [Invoice, TransactionDate, DeliveryDate, EmpKey, ChannelKey, StoreID, ProductKey, CustomerKey, Qty, Cost, Price, ProductDescription, Brand, Type, Color, CityName, CountryName, Channel, CustomerName, Industry]\n",
       "Index: []"
      ]
     },
     "execution_count": 10,
     "metadata": {},
     "output_type": "execute_result"
    }
   ],
   "source": [
    "df_dups"
   ]
  },
  {
   "cell_type": "markdown",
   "id": "bd23680b",
   "metadata": {},
   "source": [
    "There is no duplicated balues for all variables"
   ]
  },
  {
   "cell_type": "markdown",
   "id": "5bcdd2eb",
   "metadata": {},
   "source": [
    "##  BASIC DESCRIPTIVE STATS"
   ]
  },
  {
   "cell_type": "code",
   "execution_count": 11,
   "id": "74ca8ed9",
   "metadata": {
    "scrolled": false
   },
   "outputs": [
    {
     "data": {
      "text/html": [
       "<div>\n",
       "<style scoped>\n",
       "    .dataframe tbody tr th:only-of-type {\n",
       "        vertical-align: middle;\n",
       "    }\n",
       "\n",
       "    .dataframe tbody tr th {\n",
       "        vertical-align: top;\n",
       "    }\n",
       "\n",
       "    .dataframe thead th {\n",
       "        text-align: right;\n",
       "    }\n",
       "</style>\n",
       "<table border=\"1\" class=\"dataframe\">\n",
       "  <thead>\n",
       "    <tr style=\"text-align: right;\">\n",
       "      <th></th>\n",
       "      <th>ChannelKey</th>\n",
       "      <th>CustomerKey</th>\n",
       "      <th>Qty</th>\n",
       "      <th>Cost</th>\n",
       "      <th>Price</th>\n",
       "    </tr>\n",
       "  </thead>\n",
       "  <tbody>\n",
       "    <tr>\n",
       "      <th>count</th>\n",
       "      <td>806485.000000</td>\n",
       "      <td>806485.000000</td>\n",
       "      <td>806485.000000</td>\n",
       "      <td>806485.000000</td>\n",
       "      <td>806485.000000</td>\n",
       "    </tr>\n",
       "    <tr>\n",
       "      <th>mean</th>\n",
       "      <td>5.499831</td>\n",
       "      <td>852.437599</td>\n",
       "      <td>1.005514</td>\n",
       "      <td>6642.580132</td>\n",
       "      <td>8009.369146</td>\n",
       "    </tr>\n",
       "    <tr>\n",
       "      <th>std</th>\n",
       "      <td>2.873076</td>\n",
       "      <td>729.955726</td>\n",
       "      <td>0.555062</td>\n",
       "      <td>5103.335241</td>\n",
       "      <td>6161.158810</td>\n",
       "    </tr>\n",
       "    <tr>\n",
       "      <th>min</th>\n",
       "      <td>1.000000</td>\n",
       "      <td>1.000000</td>\n",
       "      <td>1.000000</td>\n",
       "      <td>1309.000000</td>\n",
       "      <td>1606.000000</td>\n",
       "    </tr>\n",
       "    <tr>\n",
       "      <th>25%</th>\n",
       "      <td>3.000000</td>\n",
       "      <td>293.000000</td>\n",
       "      <td>1.000000</td>\n",
       "      <td>3266.000000</td>\n",
       "      <td>3881.000000</td>\n",
       "    </tr>\n",
       "    <tr>\n",
       "      <th>50%</th>\n",
       "      <td>6.000000</td>\n",
       "      <td>647.000000</td>\n",
       "      <td>1.000000</td>\n",
       "      <td>5643.000000</td>\n",
       "      <td>6748.000000</td>\n",
       "    </tr>\n",
       "    <tr>\n",
       "      <th>75%</th>\n",
       "      <td>8.000000</td>\n",
       "      <td>1218.000000</td>\n",
       "      <td>1.000000</td>\n",
       "      <td>7967.000000</td>\n",
       "      <td>9765.000000</td>\n",
       "    </tr>\n",
       "    <tr>\n",
       "      <th>max</th>\n",
       "      <td>10.000000</td>\n",
       "      <td>4212.000000</td>\n",
       "      <td>100.000000</td>\n",
       "      <td>33029.000000</td>\n",
       "      <td>44731.000000</td>\n",
       "    </tr>\n",
       "  </tbody>\n",
       "</table>\n",
       "</div>"
      ],
      "text/plain": [
       "          ChannelKey    CustomerKey            Qty           Cost  \\\n",
       "count  806485.000000  806485.000000  806485.000000  806485.000000   \n",
       "mean        5.499831     852.437599       1.005514    6642.580132   \n",
       "std         2.873076     729.955726       0.555062    5103.335241   \n",
       "min         1.000000       1.000000       1.000000    1309.000000   \n",
       "25%         3.000000     293.000000       1.000000    3266.000000   \n",
       "50%         6.000000     647.000000       1.000000    5643.000000   \n",
       "75%         8.000000    1218.000000       1.000000    7967.000000   \n",
       "max        10.000000    4212.000000     100.000000   33029.000000   \n",
       "\n",
       "               Price  \n",
       "count  806485.000000  \n",
       "mean     8009.369146  \n",
       "std      6161.158810  \n",
       "min      1606.000000  \n",
       "25%      3881.000000  \n",
       "50%      6748.000000  \n",
       "75%      9765.000000  \n",
       "max     44731.000000  "
      ]
     },
     "execution_count": 11,
     "metadata": {},
     "output_type": "execute_result"
    }
   ],
   "source": [
    "df.describe()"
   ]
  },
  {
   "cell_type": "code",
   "execution_count": 12,
   "id": "d37782b0",
   "metadata": {
    "scrolled": true
   },
   "outputs": [
    {
     "data": {
      "text/html": [
       "<div>\n",
       "<style scoped>\n",
       "    .dataframe tbody tr th:only-of-type {\n",
       "        vertical-align: middle;\n",
       "    }\n",
       "\n",
       "    .dataframe tbody tr th {\n",
       "        vertical-align: top;\n",
       "    }\n",
       "\n",
       "    .dataframe thead th {\n",
       "        text-align: right;\n",
       "    }\n",
       "</style>\n",
       "<table border=\"1\" class=\"dataframe\">\n",
       "  <thead>\n",
       "    <tr style=\"text-align: right;\">\n",
       "      <th></th>\n",
       "      <th>Invoice</th>\n",
       "      <th>TransactionDate</th>\n",
       "      <th>DeliveryDate</th>\n",
       "      <th>EmpKey</th>\n",
       "      <th>ChannelKey</th>\n",
       "      <th>StoreID</th>\n",
       "      <th>ProductKey</th>\n",
       "      <th>CustomerKey</th>\n",
       "      <th>Qty</th>\n",
       "      <th>Cost</th>\n",
       "      <th>Price</th>\n",
       "      <th>ProductDescription</th>\n",
       "      <th>Brand</th>\n",
       "      <th>Type</th>\n",
       "      <th>Color</th>\n",
       "      <th>CityName</th>\n",
       "      <th>CountryName</th>\n",
       "      <th>Channel</th>\n",
       "      <th>CustomerName</th>\n",
       "      <th>Industry</th>\n",
       "    </tr>\n",
       "  </thead>\n",
       "  <tbody>\n",
       "    <tr>\n",
       "      <th>0</th>\n",
       "      <td>E1072592</td>\n",
       "      <td>2002-01-01</td>\n",
       "      <td>2002-01-22</td>\n",
       "      <td>E04</td>\n",
       "      <td>9</td>\n",
       "      <td>IN288</td>\n",
       "      <td>FL-125</td>\n",
       "      <td>72</td>\n",
       "      <td>1</td>\n",
       "      <td>1472</td>\n",
       "      <td>1958</td>\n",
       "      <td>ForkLifts-Bradshaw-HeavyDuty-YellowBlack</td>\n",
       "      <td>Bradshaw</td>\n",
       "      <td>HeavyDuty</td>\n",
       "      <td>YellowBlack</td>\n",
       "      <td>Mumbai</td>\n",
       "      <td>India</td>\n",
       "      <td>Brochure</td>\n",
       "      <td>Skanska</td>\n",
       "      <td>Construction</td>\n",
       "    </tr>\n",
       "    <tr>\n",
       "      <th>1</th>\n",
       "      <td>E1072593</td>\n",
       "      <td>2002-01-01</td>\n",
       "      <td>2002-01-16</td>\n",
       "      <td>E12</td>\n",
       "      <td>9</td>\n",
       "      <td>BZ118</td>\n",
       "      <td>RP-243</td>\n",
       "      <td>47</td>\n",
       "      <td>1</td>\n",
       "      <td>6618</td>\n",
       "      <td>9265</td>\n",
       "      <td>RoadPavers-Raygo-LightDuty-WhiteYellow</td>\n",
       "      <td>Raygo</td>\n",
       "      <td>LightDuty</td>\n",
       "      <td>WhiteYellow</td>\n",
       "      <td>SaoPaulo</td>\n",
       "      <td>Brazil</td>\n",
       "      <td>Brochure</td>\n",
       "      <td>LGCorp</td>\n",
       "      <td>Conglomerate</td>\n",
       "    </tr>\n",
       "  </tbody>\n",
       "</table>\n",
       "</div>"
      ],
      "text/plain": [
       "    Invoice TransactionDate DeliveryDate EmpKey  ChannelKey StoreID  \\\n",
       "0  E1072592      2002-01-01   2002-01-22    E04           9   IN288   \n",
       "1  E1072593      2002-01-01   2002-01-16    E12           9   BZ118   \n",
       "\n",
       "  ProductKey  CustomerKey  Qty  Cost  Price  \\\n",
       "0     FL-125           72    1  1472   1958   \n",
       "1     RP-243           47    1  6618   9265   \n",
       "\n",
       "                         ProductDescription     Brand       Type        Color  \\\n",
       "0  ForkLifts-Bradshaw-HeavyDuty-YellowBlack  Bradshaw  HeavyDuty  YellowBlack   \n",
       "1    RoadPavers-Raygo-LightDuty-WhiteYellow     Raygo  LightDuty  WhiteYellow   \n",
       "\n",
       "   CityName CountryName   Channel CustomerName      Industry  \n",
       "0    Mumbai       India  Brochure      Skanska  Construction  \n",
       "1  SaoPaulo      Brazil  Brochure       LGCorp  Conglomerate  "
      ]
     },
     "execution_count": 12,
     "metadata": {},
     "output_type": "execute_result"
    }
   ],
   "source": [
    "df.head(2)"
   ]
  },
  {
   "cell_type": "markdown",
   "id": "3f130ffa",
   "metadata": {},
   "source": [
    "#### BY EACH COLUMNS"
   ]
  },
  {
   "cell_type": "code",
   "execution_count": 13,
   "id": "8e22f707",
   "metadata": {},
   "outputs": [
    {
     "data": {
      "text/plain": [
       "E1514517    16\n",
       "E1614405    15\n",
       "E1410880    14\n",
       "E1465526    14\n",
       "E1855644    13\n",
       "            ..\n",
       "E1341368     1\n",
       "E1341369     1\n",
       "E1341370     1\n",
       "E1341371     1\n",
       "E1878902     1\n",
       "Name: Invoice, Length: 806311, dtype: int64"
      ]
     },
     "execution_count": 13,
     "metadata": {},
     "output_type": "execute_result"
    }
   ],
   "source": [
    "Invoice_counts = df['Invoice'].value_counts(dropna = False)\n",
    "Invoice_counts"
   ]
  },
  {
   "cell_type": "code",
   "execution_count": 14,
   "id": "87334e8a",
   "metadata": {},
   "outputs": [
    {
     "data": {
      "text/plain": [
       "2012-09-15    284\n",
       "2011-04-05    282\n",
       "2004-02-24    281\n",
       "2004-05-11    281\n",
       "2007-10-29    281\n",
       "             ... \n",
       "2008-01-14    188\n",
       "2005-02-05    188\n",
       "2012-07-10    188\n",
       "2013-01-01      1\n",
       "2013-01-02      1\n",
       "Name: TransactionDate, Length: 3446, dtype: int64"
      ]
     },
     "execution_count": 14,
     "metadata": {},
     "output_type": "execute_result"
    }
   ],
   "source": [
    "TransactionDate_counts = df['TransactionDate'].value_counts(dropna = False)\n",
    "TransactionDate_counts"
   ]
  },
  {
   "cell_type": "code",
   "execution_count": 15,
   "id": "a593bc79",
   "metadata": {},
   "outputs": [
    {
     "data": {
      "text/plain": [
       "2007-01-18    300\n",
       "2003-05-01    298\n",
       "2004-07-01    297\n",
       "2010-06-17    294\n",
       "2007-06-07    291\n",
       "             ... \n",
       "2002-01-07     31\n",
       "2002-01-05      4\n",
       "2013-01-29      4\n",
       "2013-02-01      3\n",
       "2013-01-31      3\n",
       "Name: DeliveryDate, Length: 3468, dtype: int64"
      ]
     },
     "execution_count": 15,
     "metadata": {},
     "output_type": "execute_result"
    }
   ],
   "source": [
    "DeliveryDate_counts = df['DeliveryDate'].value_counts(dropna = False)\n",
    "DeliveryDate_counts"
   ]
  },
  {
   "cell_type": "code",
   "execution_count": 16,
   "id": "2b8c881c",
   "metadata": {},
   "outputs": [
    {
     "data": {
      "text/plain": [
       "E03    54132\n",
       "E01    54106\n",
       "E15    54102\n",
       "E05    54037\n",
       "E02    53914\n",
       "E07    53878\n",
       "E08    53867\n",
       "E10    53791\n",
       "E06    53681\n",
       "E12    53640\n",
       "E14    53630\n",
       "E09    53628\n",
       "E11    53465\n",
       "E04    53312\n",
       "E13    53302\n",
       "Name: EmpKey, dtype: int64"
      ]
     },
     "execution_count": 16,
     "metadata": {},
     "output_type": "execute_result"
    }
   ],
   "source": [
    "EmpKey_counts = df['EmpKey'].value_counts(dropna = False)\n",
    "EmpKey_counts"
   ]
  },
  {
   "cell_type": "code",
   "execution_count": 17,
   "id": "9509f322",
   "metadata": {},
   "outputs": [
    {
     "data": {
      "text/plain": [
       "6     80996\n",
       "10    80938\n",
       "1     80933\n",
       "8     80878\n",
       "3     80703\n",
       "7     80599\n",
       "4     80558\n",
       "2     80404\n",
       "5     80352\n",
       "9     80124\n",
       "Name: ChannelKey, dtype: int64"
      ]
     },
     "execution_count": 17,
     "metadata": {},
     "output_type": "execute_result"
    }
   ],
   "source": [
    "ChannelKey_counts = df['ChannelKey'].value_counts(dropna = False)\n",
    "ChannelKey_counts"
   ]
  },
  {
   "cell_type": "code",
   "execution_count": 18,
   "id": "951b9f20",
   "metadata": {},
   "outputs": [
    {
     "data": {
      "text/plain": [
       "FR239    9919\n",
       "CH243    9905\n",
       "IN288    9894\n",
       "US212    9890\n",
       "TU989    9884\n",
       "         ... \n",
       "OC712    9544\n",
       "US218    9540\n",
       "US219    9529\n",
       "UA120    9520\n",
       "NT778    9469\n",
       "Name: StoreID, Length: 83, dtype: int64"
      ]
     },
     "execution_count": 18,
     "metadata": {},
     "output_type": "execute_result"
    }
   ],
   "source": [
    "StoreID_counts = df['StoreID'].value_counts(dropna = False)\n",
    "StoreID_counts"
   ]
  },
  {
   "cell_type": "code",
   "execution_count": 19,
   "id": "9664b392",
   "metadata": {},
   "outputs": [
    {
     "data": {
      "text/plain": [
       "EM-693    3540\n",
       "CT-721    3519\n",
       "WT-218    3519\n",
       "RP-243    3511\n",
       "DT-807    3489\n",
       "          ... \n",
       "DD-304    3242\n",
       "RP-237    3226\n",
       "BB-898       1\n",
       "BB-899       1\n",
       "BB-892       1\n",
       "Name: ProductKey, Length: 243, dtype: int64"
      ]
     },
     "execution_count": 19,
     "metadata": {},
     "output_type": "execute_result"
    }
   ],
   "source": [
    "ProductKey_counts = df['ProductKey'].value_counts(dropna = False)\n",
    "ProductKey_counts"
   ]
  },
  {
   "cell_type": "code",
   "execution_count": 20,
   "id": "370b2273",
   "metadata": {},
   "outputs": [
    {
     "data": {
      "text/plain": [
       "87      844\n",
       "24      843\n",
       "16      841\n",
       "6       838\n",
       "74      838\n",
       "       ... \n",
       "3961      1\n",
       "3924      1\n",
       "3973      1\n",
       "3813      1\n",
       "4155      1\n",
       "Name: CustomerKey, Length: 3939, dtype: int64"
      ]
     },
     "execution_count": 20,
     "metadata": {},
     "output_type": "execute_result"
    }
   ],
   "source": [
    "CustomerKey_counts = df['CustomerKey'].value_counts(dropna = False)\n",
    "CustomerKey_counts"
   ]
  },
  {
   "cell_type": "code",
   "execution_count": 21,
   "id": "4ec182a5",
   "metadata": {},
   "outputs": [
    {
     "data": {
      "text/plain": [
       "1     806314\n",
       "2         15\n",
       "3         12\n",
       "8          9\n",
       "6          8\n",
       "       ...  \n",
       "97         1\n",
       "89         1\n",
       "80         1\n",
       "73         1\n",
       "26         1\n",
       "Name: Qty, Length: 62, dtype: int64"
      ]
     },
     "execution_count": 21,
     "metadata": {},
     "output_type": "execute_result"
    }
   ],
   "source": [
    "Qty_counts = df['Qty'].value_counts(dropna = False)\n",
    "Qty_counts"
   ]
  },
  {
   "cell_type": "code",
   "execution_count": 22,
   "id": "a639be58",
   "metadata": {},
   "outputs": [
    {
     "data": {
      "text/plain": [
       "2778     6798\n",
       "11288    6620\n",
       "6278     3540\n",
       "2985     3519\n",
       "4938     3519\n",
       "         ... \n",
       "8272     3242\n",
       "7539     3226\n",
       "4545        1\n",
       "6464        1\n",
       "7845        1\n",
       "Name: Cost, Length: 241, dtype: int64"
      ]
     },
     "execution_count": 22,
     "metadata": {},
     "output_type": "execute_result"
    }
   ],
   "source": [
    "Cost_counts = df['Cost'].value_counts(dropna = False)\n",
    "Cost_counts"
   ]
  },
  {
   "cell_type": "code",
   "execution_count": 23,
   "id": "127e65ea",
   "metadata": {
    "scrolled": true
   },
   "outputs": [
    {
     "data": {
      "text/plain": [
       "6748     6800\n",
       "3013     6756\n",
       "4453     6562\n",
       "7973     3540\n",
       "3731     3519\n",
       "         ... \n",
       "10505    3242\n",
       "10102    3226\n",
       "3545        1\n",
       "4356        1\n",
       "6545        1\n",
       "Name: Price, Length: 240, dtype: int64"
      ]
     },
     "execution_count": 23,
     "metadata": {},
     "output_type": "execute_result"
    }
   ],
   "source": [
    "Price_counts = df['Price'].value_counts(dropna = False)\n",
    "Price_counts"
   ]
  },
  {
   "cell_type": "code",
   "execution_count": 24,
   "id": "5f787d9d",
   "metadata": {
    "scrolled": true
   },
   "outputs": [
    {
     "data": {
      "image/png": "[encoded data removed]",
      "text/plain": [
       "<Figure size 432x288 with 1 Axes>"
      ]
     },
     "metadata": {
      "needs_background": "light"
     },
     "output_type": "display_data"
    }
   ],
   "source": [
    "sns.histplot(df['Price'], bins=20, kde=True, color='orange')\n",
    "plt.show()"
   ]
  },
  {
   "cell_type": "code",
   "execution_count": 25,
   "id": "ab72ff22",
   "metadata": {
    "scrolled": true
   },
   "outputs": [
    {
     "data": {
      "image/png": "[encoded data removed]",
      "text/plain": [
       "<Figure size 432x288 with 1 Axes>"
      ]
     },
     "metadata": {
      "needs_background": "light"
     },
     "output_type": "display_data"
    }
   ],
   "source": [
    "sns.boxplot(x=df['Price'])\n",
    "plt.title('Unit Price Boxplot')\n",
    "plt.show()"
   ]
  },
  {
   "cell_type": "code",
   "execution_count": 26,
   "id": "de4a9a35",
   "metadata": {},
   "outputs": [
    {
     "data": {
      "image/png": "[encoded data removed]",
      "text/plain": [
       "<Figure size 360x360 with 1 Axes>"
      ]
     },
     "metadata": {
      "needs_background": "light"
     },
     "output_type": "display_data"
    }
   ],
   "source": [
    "# Create a scatterplot for the \"Qty\" and \"Price\" columns in seaborn\n",
    "\n",
    "plotone = sns.lmplot(x = 'Price', y = 'Qty', data = df)"
   ]
  },
  {
   "cell_type": "code",
   "execution_count": 27,
   "id": "fa707703",
   "metadata": {},
   "outputs": [
    {
     "data": {
      "text/plain": [
       "EarthMovers-Noram-LightDuty-Black           3540\n",
       "Compactors-Bomag-Standard-Green             3519\n",
       "WindTurbines-Goldwind-Standard-Rust         3519\n",
       "RoadPavers-Raygo-LightDuty-WhiteYellow      3511\n",
       "DumpTrucks-Valmet-LightDuty-Black           3489\n",
       "                                            ... \n",
       "Dredgers-Tigercat-LightDuty-White           3242\n",
       "RoadPavers-Allatt-HeavyDuty-Orange          3226\n",
       "Skidsteer-Backhoe-loader-Standard-Orange       1\n",
       "Skidsteer-Backhoe-loader-Heavy-Red             1\n",
       "Skidsteer-Backhoe-loader-Heavy-Yellow          1\n",
       "Name: ProductDescription, Length: 243, dtype: int64"
      ]
     },
     "execution_count": 27,
     "metadata": {},
     "output_type": "execute_result"
    }
   ],
   "source": [
    "ProductDescription_counts = df['ProductDescription'].value_counts(dropna = False)\n",
    "ProductDescription_counts"
   ]
  },
  {
   "cell_type": "code",
   "execution_count": 28,
   "id": "adac1f19",
   "metadata": {
    "scrolled": false
   },
   "outputs": [
    {
     "data": {
      "text/plain": [
       "Caterpillar    40204\n",
       "Volvo          23613\n",
       "JCB            20324\n",
       "Bobcat         20313\n",
       "Hitachi        20293\n",
       "               ...  \n",
       "Cimolai         3245\n",
       "Ponsse          3244\n",
       "Tigercat        3242\n",
       "Allatt          3226\n",
       "Bob Cat            3\n",
       "Name: Brand, Length: 163, dtype: int64"
      ]
     },
     "execution_count": 28,
     "metadata": {},
     "output_type": "execute_result"
    }
   ],
   "source": [
    "Brand_counts = df['Brand'].value_counts(dropna = False)\n",
    "Brand_counts"
   ]
  },
  {
   "cell_type": "code",
   "execution_count": 29,
   "id": "8c67363e",
   "metadata": {},
   "outputs": [
    {
     "data": {
      "image/png": "[encoded data removed]",
      "text/plain": [
       "<Figure size 720x360 with 1 Axes>"
      ]
     },
     "metadata": {
      "needs_background": "light"
     },
     "output_type": "display_data"
    }
   ],
   "source": [
    "# Plot only the top 50 Brand \n",
    "ax = (\n",
    "    df['Brand']\n",
    "      .value_counts()\n",
    "      .head(50)                       # keep only top 50\n",
    "      .plot(kind='bar', color='skyblue', figsize=(10,5))\n",
    ")\n",
    "\n",
    "plt.title('Top 50 Brand')\n",
    "plt.xlabel('Brand')\n",
    "plt.ylabel('Count')\n",
    "plt.xticks(rotation=45, ha='right')   # rotate labels for readability\n",
    "plt.tight_layout()                    # avoid label cutoff\n",
    "plt.show()"
   ]
  },
  {
   "cell_type": "code",
   "execution_count": 30,
   "id": "ff028d3e",
   "metadata": {},
   "outputs": [
    {
     "data": {
      "text/plain": [
       "LightDuty    292693\n",
       "HeavyDuty    272480\n",
       "Standard     241312\n",
       "Name: Type, dtype: int64"
      ]
     },
     "execution_count": 30,
     "metadata": {},
     "output_type": "execute_result"
    }
   ],
   "source": [
    "Type_counts = df['Type'].value_counts(dropna = False)\n",
    "Type_counts"
   ]
  },
  {
   "cell_type": "code",
   "execution_count": 31,
   "id": "16a4849e",
   "metadata": {},
   "outputs": [
    {
     "data": {
      "text/plain": [
       "White          97558\n",
       "RedWhite       87189\n",
       "Yellow         86913\n",
       "YellowBlack    80904\n",
       "Red            80292\n",
       "Black          78018\n",
       "Green          77743\n",
       "Orange         76726\n",
       "WhiteYellow    67348\n",
       "GreenWhite     66875\n",
       "Rust            3519\n",
       "Blue            3400\n",
       "Name: Color, dtype: int64"
      ]
     },
     "execution_count": 31,
     "metadata": {},
     "output_type": "execute_result"
    }
   ],
   "source": [
    "Color_counts = df['Color'].value_counts(dropna = False)\n",
    "Color_counts"
   ]
  },
  {
   "cell_type": "code",
   "execution_count": 32,
   "id": "60c80983",
   "metadata": {},
   "outputs": [
    {
     "data": {
      "text/plain": [
       "Brordeaux    9919\n",
       "Taipei       9905\n",
       "Mumbai       9894\n",
       "Houston      9890\n",
       "Tunis        9884\n",
       "             ... \n",
       "Auckland     9544\n",
       "Lafayette    9540\n",
       "Detroit      9529\n",
       "Dubai        9520\n",
       "Randstad     9469\n",
       "Name: CityName, Length: 83, dtype: int64"
      ]
     },
     "execution_count": 32,
     "metadata": {},
     "output_type": "execute_result"
    }
   ],
   "source": [
    "CityName_counts = df['CityName'].value_counts(dropna = False)\n",
    "CityName_counts"
   ]
  },
  {
   "cell_type": "code",
   "execution_count": 33,
   "id": "773fc56c",
   "metadata": {},
   "outputs": [
    {
     "data": {
      "image/png": "[encoded data removed]",
      "text/plain": [
       "<Figure size 720x360 with 1 Axes>"
      ]
     },
     "metadata": {
      "needs_background": "light"
     },
     "output_type": "display_data"
    }
   ],
   "source": [
    "# Plot only the top 50 City\n",
    "ax = (\n",
    "    df['CityName']\n",
    "      .value_counts()\n",
    "      .head(50)                       # keep only top 50\n",
    "      .plot(kind='bar', color='skyblue', figsize=(10,5))\n",
    ")\n",
    "\n",
    "plt.title('Top 20 City')\n",
    "plt.xlabel('City')\n",
    "plt.ylabel('Count')\n",
    "plt.xticks(rotation=45, ha='right')   # rotate labels for readability\n",
    "plt.tight_layout()                    # avoid label cutoff\n",
    "plt.show()"
   ]
  },
  {
   "cell_type": "code",
   "execution_count": 34,
   "id": "2b3555d3",
   "metadata": {
    "scrolled": true
   },
   "outputs": [
    {
     "data": {
      "text/plain": [
       "US             86930\n",
       "Australia      67926\n",
       "India          39095\n",
       "China          39005\n",
       "UK             38881\n",
       "Netherlands    38764\n",
       "UAE            38570\n",
       "France         29396\n",
       "Germany        29034\n",
       "Russia         28988\n",
       "Venezuela      19647\n",
       "SouthAfrica    19619\n",
       "Switzerland    19560\n",
       "Mexico         19559\n",
       "Norway         19524\n",
       "Italy          19494\n",
       "Brazil         19443\n",
       "SouthKorea     19386\n",
       "NewZealand     19359\n",
       "Kenya          19317\n",
       "Taiwan         19257\n",
       "Japan          19196\n",
       "Tunisia         9884\n",
       "Nigeria         9819\n",
       "Ethiopia        9810\n",
       "Namibia         9799\n",
       "Tanzania        9782\n",
       "Kuwait          9776\n",
       "Rwanda          9768\n",
       "Angola          9741\n",
       "Sweden          9717\n",
       "Congo           9708\n",
       "Botswana        9704\n",
       "Egypt           9702\n",
       "Ghana           9678\n",
       "Gabon           9647\n",
       "Name: CountryName, dtype: int64"
      ]
     },
     "execution_count": 34,
     "metadata": {},
     "output_type": "execute_result"
    }
   ],
   "source": [
    "CountryName_counts = df['CountryName'].value_counts(dropna = False)\n",
    "CountryName_counts"
   ]
  },
  {
   "cell_type": "code",
   "execution_count": 35,
   "id": "207f0a47",
   "metadata": {},
   "outputs": [
    {
     "data": {
      "image/png": "[encoded data removed]",
      "text/plain": [
       "<Figure size 720x360 with 1 Axes>"
      ]
     },
     "metadata": {
      "needs_background": "light"
     },
     "output_type": "display_data"
    }
   ],
   "source": [
    "# Plot only the top 50 Country \n",
    "ax = (\n",
    "    df['CountryName']\n",
    "      .value_counts()\n",
    "      .head(50)                       # keep only top 50\n",
    "      .plot(kind='bar', color='skyblue', figsize=(10,5))\n",
    ")\n",
    "\n",
    "plt.title('Top 50 Country Name')\n",
    "plt.xlabel('Country Name')\n",
    "plt.ylabel('Count')\n",
    "plt.xticks(rotation=45, ha='right')   # rotate labels for readability\n",
    "plt.tight_layout()                    # avoid label cutoff\n",
    "plt.show()"
   ]
  },
  {
   "cell_type": "code",
   "execution_count": 36,
   "id": "ea7c30dc",
   "metadata": {},
   "outputs": [
    {
     "data": {
      "text/plain": [
       "SocialMedia       80996\n",
       "Quality           80938\n",
       "OnSiteDemo        80933\n",
       "Website           80878\n",
       "Magazine          80703\n",
       "RoadShow          80599\n",
       "CustomerReview    80558\n",
       "InternetReview    80404\n",
       "Television        80352\n",
       "Brochure          80124\n",
       "Name: Channel, dtype: int64"
      ]
     },
     "execution_count": 36,
     "metadata": {},
     "output_type": "execute_result"
    }
   ],
   "source": [
    "Channel_counts = df['Channel'].value_counts(dropna = False)\n",
    "Channel_counts\n"
   ]
  },
  {
   "cell_type": "code",
   "execution_count": 37,
   "id": "080a0cd2",
   "metadata": {
    "scrolled": true
   },
   "outputs": [
    {
     "data": {
      "text/plain": [
       "Walmart                844\n",
       "Dangote                843\n",
       "Cargill                841\n",
       "Statoil                838\n",
       "Barrick                838\n",
       "                      ... \n",
       "Tuukka H Uosukainen      1\n",
       "Benedek B Széll          1\n",
       "Anne H Virta             1\n",
       "Breno A Dias             1\n",
       "Peter A Rønning          1\n",
       "Name: CustomerName, Length: 3930, dtype: int64"
      ]
     },
     "execution_count": 37,
     "metadata": {},
     "output_type": "execute_result"
    }
   ],
   "source": [
    "CustomerName_counts = df['CustomerName'].value_counts(dropna = False)\n",
    "CustomerName_counts\n"
   ]
  },
  {
   "cell_type": "code",
   "execution_count": 38,
   "id": "f710d4ad",
   "metadata": {},
   "outputs": [
    {
     "data": {
      "image/png": "[encoded data removed]",
      "text/plain": [
       "<Figure size 720x360 with 1 Axes>"
      ]
     },
     "metadata": {
      "needs_background": "light"
     },
     "output_type": "display_data"
    }
   ],
   "source": [
    "# Plot only the top 50 customers\n",
    "ax = (\n",
    "    df['CustomerName']\n",
    "      .value_counts()\n",
    "      .head(50)                       # keep only top 50\n",
    "      .plot(kind='bar', color='skyblue', figsize=(10,5))\n",
    ")\n",
    "\n",
    "plt.title('Top 50 Customers')\n",
    "plt.xlabel('Customer Name')\n",
    "plt.ylabel('Count')\n",
    "plt.xticks(rotation=45, ha='right')   # rotate labels for readability\n",
    "plt.tight_layout()                    # avoid label cutoff\n",
    "plt.show()"
   ]
  },
  {
   "cell_type": "code",
   "execution_count": 39,
   "id": "6cddca94",
   "metadata": {},
   "outputs": [
    {
     "data": {
      "text/plain": [
       "Reseller                   563090\n",
       "Construction Contractor     98012\n",
       "Realtor                     41407\n",
       "Oil&Gas                     19701\n",
       "Conglomerate                11872\n",
       "Equipment Dealer            10328\n",
       "Railway Contractor           9785\n",
       "Construction                 7760\n",
       "Automotive                   7675\n",
       "Mining                       7159\n",
       "Dealer                       6912\n",
       "Retail                       5537\n",
       "Electricity                  3911\n",
       "Pharmaceuticals              3181\n",
       "Commodities                  2338\n",
       "Telecom                      2236\n",
       "Electronics                  1640\n",
       "FoodProcessing               1608\n",
       "Healthcare                    790\n",
       "Chemicals                     785\n",
       "OnlineRetail                  758\n",
       "Name: Industry, dtype: int64"
      ]
     },
     "execution_count": 39,
     "metadata": {},
     "output_type": "execute_result"
    }
   ],
   "source": [
    "Industry_counts = df['Industry'].value_counts(dropna = False)\n",
    "Industry_counts\n"
   ]
  },
  {
   "cell_type": "code",
   "execution_count": 40,
   "id": "6d1904a9",
   "metadata": {},
   "outputs": [
    {
     "data": {
      "image/png": "[encoded data removed]",
      "text/plain": [
       "<Figure size 432x288 with 1 Axes>"
      ]
     },
     "metadata": {
      "needs_background": "light"
     },
     "output_type": "display_data"
    }
   ],
   "source": [
    "# Plot bar chart\n",
    "ax = df['Industry'].value_counts().plot(kind='bar', color='skyblue')\n",
    "plt.title('Distribution of Industry')\n",
    "plt.xlabel('Industry')\n",
    "plt.ylabel('Count')\n",
    "\n",
    "\n",
    "plt.show()"
   ]
  },
  {
   "cell_type": "code",
   "execution_count": null,
   "id": "aec30dee",
   "metadata": {},
   "outputs": [],
   "source": []
  }
 ],
 "metadata": {
  "kernelspec": {
   "display_name": "Python 3 (ipykernel)",
   "language": "python",
   "name": "python3"
  },
  "language_info": {
   "codemirror_mode": {
    "name": "ipython",
    "version": 3
   },
   "file_extension": ".py",
   "mimetype": "text/x-python",
   "name": "python",
   "nbconvert_exporter": "python",
   "pygments_lexer": "ipython3",
   "version": "3.9.7"
  }
 },
 "nbformat": 4,
 "nbformat_minor": 5
}
